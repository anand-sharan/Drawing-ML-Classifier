{
 "cells": [
  {
   "cell_type": "code",
   "execution_count": 1,
   "metadata": {},
   "outputs": [],
   "source": [
    "import tensorflow as tf\n",
    "import os\n",
    "import numpy as np\n",
    "import matplotlib.pyplot as plt\n",
    "import pickle\n",
    "import pandas as pd\n",
    "\n",
    "%matplotlib inline\n",
    "\n",
    "cwd = os.getcwd()"
   ]
  },
  {
   "cell_type": "code",
   "execution_count": 2,
   "metadata": {},
   "outputs": [],
   "source": [
    "datapath = os.path.join(cwd, \"..\", \"data\")"
   ]
  },
  {
   "cell_type": "code",
   "execution_count": 3,
   "metadata": {},
   "outputs": [
    {
     "data": {
      "text/plain": [
       "array([['full_numpy_bitmap_bowtie.npy'],\n",
       "       ['full_numpy_bitmap_butterfly.npy'],\n",
       "       ['full_numpy_bitmap_cake.npy'],\n",
       "       ['full_numpy_bitmap_cat.npy'],\n",
       "       ['full_numpy_bitmap_dog.npy'],\n",
       "       ['full_numpy_bitmap_dolphin.npy'],\n",
       "       ['full_numpy_bitmap_dumbbell.npy'],\n",
       "       ['full_numpy_bitmap_elephant.npy'],\n",
       "       ['full_numpy_bitmap_fish.npy'],\n",
       "       ['full_numpy_bitmap_helicopter.npy'],\n",
       "       ['full_numpy_bitmap_leaf.npy'],\n",
       "       ['full_numpy_bitmap_mountain.npy'],\n",
       "       ['full_numpy_bitmap_octagon.npy'],\n",
       "       ['full_numpy_bitmap_panda.npy'],\n",
       "       ['full_numpy_bitmap_rainbow.npy']], dtype=object)"
      ]
     },
     "execution_count": 3,
     "metadata": {},
     "output_type": "execute_result"
    }
   ],
   "source": [
    "from os import listdir\n",
    "from os.path import isfile, join\n",
    "\n",
    "img_rows, img_cols = 28, 28\n",
    "\n",
    "data_dir = os.path.join(cwd, \"..\", \"data\")\n",
    "model_dir = os.path.join(cwd, \"..\", \"model\")\n",
    "\n",
    "file_list = [f for f in listdir(datapath) if isfile(join(datapath, f))]\n",
    "\n",
    "file_list_df = pd.DataFrame(file_list, columns = [ \"Filename\"] )\n",
    "\n",
    "cleaned_file_list_df = file_list_df[(file_list_df.Filename != '.gitkeep') & \\\n",
    "                                    (file_list_df.Filename != 'test.pickle') & \\\n",
    "                                    (file_list_df.Filename != 'train.pickle')]\n",
    "\n",
    "LABELS = []\n",
    "for index, row in file_list_df.iterrows():\n",
    "    if row[\"Filename\"] != '.gitkeep' and row[\"Filename\"] != 'test.pickle' and row[\"Filename\"] != 'train.pickle':\n",
    "        name_label = os.path.splitext(row[\"Filename\"])[0]\n",
    "        labl = name_label.split('_')[3]\n",
    "        LABELS.append(labl) \n",
    "\n",
    "LABELS = np.array(LABELS)\n",
    "\n",
    "#LABELS = np.array(\n",
    "#    map(\n",
    "#        (lambda x : x.replace(\".npy\", \"\")),\n",
    "#        filter(lambda x: x.endswith('.npy'), os.listdir(data_dir))\n",
    "#    )\n",
    "#)\n",
    "\n",
    "num_classes = len(LABELS)\n",
    "len(LABELS)\n",
    "\n",
    "datas_path = cleaned_file_list_df.to_numpy()\n",
    "\n",
    "datas_path"
   ]
  },
  {
   "cell_type": "code",
   "execution_count": 4,
   "metadata": {},
   "outputs": [
    {
     "data": {
      "text/plain": [
       "array(['bowtie', 'butterfly', 'cake', 'cat', 'dog', 'dolphin', 'dumbbell',\n",
       "       'elephant', 'fish', 'helicopter', 'leaf', 'mountain', 'octagon',\n",
       "       'panda', 'rainbow'], dtype='<U10')"
      ]
     },
     "execution_count": 4,
     "metadata": {},
     "output_type": "execute_result"
    }
   ],
   "source": [
    "LABELS"
   ]
  },
  {
   "cell_type": "code",
   "execution_count": 6,
   "metadata": {},
   "outputs": [
    {
     "name": "stdout",
     "output_type": "stream",
     "text": [
      "<filter object at 0x000001D8F55697B8>\n",
      "Load full_numpy_bitmap_bowtie.npy\n",
      "Load full_numpy_bitmap_butterfly.npy\n",
      "Load full_numpy_bitmap_cake.npy\n",
      "Load full_numpy_bitmap_cat.npy\n",
      "Load full_numpy_bitmap_dog.npy\n",
      "Load full_numpy_bitmap_dolphin.npy\n",
      "Load full_numpy_bitmap_dumbbell.npy\n",
      "Load full_numpy_bitmap_elephant.npy\n",
      "Load full_numpy_bitmap_fish.npy\n",
      "Load full_numpy_bitmap_helicopter.npy\n",
      "Load full_numpy_bitmap_leaf.npy\n",
      "Load full_numpy_bitmap_mountain.npy\n",
      "Load full_numpy_bitmap_octagon.npy\n",
      "Load full_numpy_bitmap_panda.npy\n",
      "Load full_numpy_bitmap_rainbow.npy\n",
      "Dataset 75000 images\n",
      "Train 67500 images\n",
      "Test 7500 images\n",
      "Write data to pickle files...\n",
      "Finish\n"
     ]
    }
   ],
   "source": [
    "def data_prepare():\n",
    "    datas_path = filter(lambda x: x.endswith('.npy'), os.listdir(data_dir))\n",
    "    print(datas_path)\n",
    "    dataset = np.array([]).reshape(0, img_rows * img_cols + 1)\n",
    "    \n",
    "    for i, d_path in enumerate(datas_path):\n",
    "        data = np.load(os.path.join(data_dir, d_path))\n",
    "        image_size = len(data)\n",
    "        label = np.ones(image_size, dtype=int) * i\n",
    "        data = np.concatenate((label[:, np.newaxis], data), axis=1)\n",
    "        \n",
    "        np.random.shuffle(data)\n",
    "\n",
    "        dataset = np.append(dataset, data[0:5000], axis=0)\n",
    "        print(\"Load {}\".format(d_path))\n",
    "    \n",
    "    np.random.shuffle(dataset)\n",
    "    dataset_len = len(dataset)\n",
    "    split_x = (int)(dataset_len * 0.9)\n",
    "    \n",
    "    print(\"Dataset {} images\".format(dataset_len))\n",
    "    print(\"Train {} images\".format(split_x))\n",
    "    print(\"Test {} images\".format(dataset_len - split_x))\n",
    "    \n",
    "    print(\"Write data to pickle files...\")\n",
    "    \n",
    "    pickle.dump(dataset[0:split_x], open(os.path.join(data_dir, \"train.pickle\"), \"wb\"))\n",
    "    pickle.dump(dataset[split_x:-1], open(os.path.join(data_dir, \"test.pickle\"), \"wb\"))\n",
    "    \n",
    "    print(\"Finish\")\n",
    "\n",
    "if not os.path.exists(os.path.join(data_dir, \"train.pickle\")):\n",
    "    print(\"Prepare pickle data\")\n",
    "    data_prepare()"
   ]
  },
  {
   "cell_type": "code",
   "execution_count": 8,
   "metadata": {},
   "outputs": [
    {
     "name": "stdout",
     "output_type": "stream",
     "text": [
      "Load dataset complete\n"
     ]
    }
   ],
   "source": [
    "x_train = None\n",
    "y_train = None\n",
    "x_test = None\n",
    "y_test = None\n",
    "\n",
    "def load_dataset():\n",
    "    global x_train, y_train, x_test, y_test\n",
    "    train_data = pickle.load(open(os.path.join(data_dir, \"train.pickle\"), \"rb\"))\n",
    "    test_data = pickle.load(open(os.path.join(data_dir, \"test.pickle\"), \"rb\"))\n",
    "    x_train = train_data[:,1:]\n",
    "    y_train = train_data[:,0]\n",
    "    x_test = test_data[:,1:]\n",
    "    y_test = test_data[:,0]\n",
    "    print(\"Load dataset complete\")\n",
    "\n",
    "load_dataset()"
   ]
  },
  {
   "cell_type": "code",
   "execution_count": 41,
   "metadata": {},
   "outputs": [],
   "source": [
    "#LABELS = [ 'stethoscope', 'flower', 'dog', 'key', 'dolphin', 'butterfly', 'cake', 'lollipop', 'key board', 'tree', 'fish', 'ant', \n",
    "#         'violin', 'fish', 'cat']"
   ]
  },
  {
   "cell_type": "code",
   "execution_count": 19,
   "metadata": {},
   "outputs": [
    {
     "data": {
      "image/png": "[encoded data removed]",
      "text/plain": [
       "<Figure size 432x288 with 1 Axes>"
      ]
     },
     "metadata": {
      "needs_background": "light"
     },
     "output_type": "display_data"
    },
    {
     "data": {
      "image/png": "[encoded data removed]",
      "text/plain": [
       "<Figure size 432x288 with 1 Axes>"
      ]
     },
     "metadata": {
      "needs_background": "light"
     },
     "output_type": "display_data"
    },
    {
     "data": {
      "image/png": "[encoded data removed]",
      "text/plain": [
       "<Figure size 432x288 with 1 Axes>"
      ]
     },
     "metadata": {
      "needs_background": "light"
     },
     "output_type": "display_data"
    },
    {
     "data": {
      "image/png": "[encoded data removed]",
      "text/plain": [
       "<Figure size 432x288 with 1 Axes>"
      ]
     },
     "metadata": {
      "needs_background": "light"
     },
     "output_type": "display_data"
    },
    {
     "data": {
      "image/png": "[encoded data removed]",
      "text/plain": [
       "<Figure size 432x288 with 1 Axes>"
      ]
     },
     "metadata": {
      "needs_background": "light"
     },
     "output_type": "display_data"
    },
    {
     "data": {
      "image/png": "[encoded data removed]",
      "text/plain": [
       "<Figure size 432x288 with 1 Axes>"
      ]
     },
     "metadata": {
      "needs_background": "light"
     },
     "output_type": "display_data"
    },
    {
     "data": {
      "image/png": "[encoded data removed]",
      "text/plain": [
       "<Figure size 432x288 with 1 Axes>"
      ]
     },
     "metadata": {
      "needs_background": "light"
     },
     "output_type": "display_data"
    },
    {
     "data": {
      "image/png": "[encoded data removed]",
      "text/plain": [
       "<Figure size 432x288 with 1 Axes>"
      ]
     },
     "metadata": {
      "needs_background": "light"
     },
     "output_type": "display_data"
    },
    {
     "data": {
      "image/png": "[encoded data removed]",
      "text/plain": [
       "<Figure size 432x288 with 1 Axes>"
      ]
     },
     "metadata": {
      "needs_background": "light"
     },
     "output_type": "display_data"
    },
    {
     "data": {
      "image/png": "[encoded data removed]",
      "text/plain": [
       "<Figure size 432x288 with 1 Axes>"
      ]
     },
     "metadata": {
      "needs_background": "light"
     },
     "output_type": "display_data"
    },
    {
     "data": {
      "image/png": "[encoded data removed]",
      "text/plain": [
       "<Figure size 432x288 with 1 Axes>"
      ]
     },
     "metadata": {
      "needs_background": "light"
     },
     "output_type": "display_data"
    },
    {
     "data": {
      "image/png": "[encoded data removed]",
      "text/plain": [
       "<Figure size 432x288 with 1 Axes>"
      ]
     },
     "metadata": {
      "needs_background": "light"
     },
     "output_type": "display_data"
    },
    {
     "data": {
      "image/png": "[encoded data removed]",
      "text/plain": [
       "<Figure size 432x288 with 1 Axes>"
      ]
     },
     "metadata": {
      "needs_background": "light"
     },
     "output_type": "display_data"
    },
    {
     "data": {
      "image/png": "[encoded data removed]",
      "text/plain": [
       "<Figure size 432x288 with 1 Axes>"
      ]
     },
     "metadata": {
      "needs_background": "light"
     },
     "output_type": "display_data"
    },
    {
     "data": {
      "image/png": "[encoded data removed]",
      "text/plain": [
       "<Figure size 432x288 with 1 Axes>"
      ]
     },
     "metadata": {
      "needs_background": "light"
     },
     "output_type": "display_data"
    }
   ],
   "source": [
    "for i in range(num_classes):\n",
    "    plt.imshow(x_train[i].reshape(28,28))\n",
    "    plt.title(LABELS[(int)(y_train[i])])\n",
    "    # Save the figure\n",
    "    file_name = '../docs/' + LABELS[(int)(y_train[i])] + '_train_img_data.png'\n",
    "    plt.savefig(file_name)\n",
    "    plt.show()\n"
   ]
  },
  {
   "cell_type": "markdown",
   "metadata": {},
   "source": [
    "### Data Prepossing"
   ]
  },
  {
   "cell_type": "code",
   "execution_count": 11,
   "metadata": {},
   "outputs": [],
   "source": [
    "import keras\n",
    "from keras.models import Sequential\n",
    "from keras.layers import Dense, Dropout, Flatten\n",
    "from keras.layers import Conv2D, MaxPooling2D"
   ]
  },
  {
   "cell_type": "code",
   "execution_count": 12,
   "metadata": {
    "scrolled": true
   },
   "outputs": [
    {
     "name": "stdout",
     "output_type": "stream",
     "text": [
      "(67500, 28, 28, 1)\n",
      "(67500, 15)\n",
      "(7499, 28, 28, 1)\n",
      "(7499, 15)\n"
     ]
    }
   ],
   "source": [
    "x_train = x_train.astype('float32')\n",
    "x_test = x_test.astype('float32')\n",
    "x_train /= 255\n",
    "x_test /= 255\n",
    "x_train = x_train.reshape(x_train.shape[0], img_rows, img_cols, 1)\n",
    "x_test = x_test.reshape(x_test.shape[0], img_rows, img_cols, 1)\n",
    "\n",
    "y_train_onehot = keras.utils.to_categorical(y_train, num_classes)\n",
    "y_test_onehot = keras.utils.to_categorical(y_test, num_classes)\n",
    "\n",
    "print(x_train.shape)\n",
    "print(y_train_onehot.shape)\n",
    "print(x_test.shape)\n",
    "print(y_test_onehot.shape)"
   ]
  },
  {
   "cell_type": "markdown",
   "metadata": {},
   "source": [
    "### Define Callback"
   ]
  },
  {
   "cell_type": "code",
   "execution_count": 23,
   "metadata": {},
   "outputs": [],
   "source": [
    "class myCallback(tf.keras.callbacks.Callback):\n",
    "  def on_epoch_end(self, epoch, logs={}):\n",
    "    if(logs.get('accuracy')>0.975):\n",
    "      print(\"\\nReached 97.5% accuracy so cancelling training!\")\n",
    "      self.model.stop_training = True\n",
    "\n",
    "callbacks = myCallback()"
   ]
  },
  {
   "cell_type": "markdown",
   "metadata": {},
   "source": [
    "### Model"
   ]
  },
  {
   "cell_type": "code",
   "execution_count": 24,
   "metadata": {
    "scrolled": true
   },
   "outputs": [
    {
     "name": "stdout",
     "output_type": "stream",
     "text": [
      "Epoch 1/30\n",
      "67500/67500 [==============================] - 81s 1ms/step - loss: 0.7949 - accuracy: 0.7625\n",
      "Epoch 2/30\n",
      "67500/67500 [==============================] - 74s 1ms/step - loss: 0.4920 - accuracy: 0.8544\n",
      "Epoch 3/30\n",
      "67500/67500 [==============================] - 71s 1ms/step - loss: 0.4038 - accuracy: 0.8787\n",
      "Epoch 4/30\n",
      "67500/67500 [==============================] - 76s 1ms/step - loss: 0.3543 - accuracy: 0.8928\n",
      "Epoch 5/30\n",
      "67500/67500 [==============================] - 81s 1ms/step - loss: 0.3119 - accuracy: 0.9039\n",
      "Epoch 6/30\n",
      "67500/67500 [==============================] - 78s 1ms/step - loss: 0.2747 - accuracy: 0.9145\n",
      "Epoch 7/30\n",
      "67500/67500 [==============================] - 78s 1ms/step - loss: 0.2430 - accuracy: 0.9228\n",
      "Epoch 8/30\n",
      "67500/67500 [==============================] - 77s 1ms/step - loss: 0.2190 - accuracy: 0.9298\n",
      "Epoch 9/30\n",
      "67500/67500 [==============================] - 72s 1ms/step - loss: 0.2004 - accuracy: 0.9356\n",
      "Epoch 10/30\n",
      "67500/67500 [==============================] - 71s 1ms/step - loss: 0.1801 - accuracy: 0.9420\n",
      "Epoch 11/30\n",
      "67500/67500 [==============================] - 72s 1ms/step - loss: 0.1669 - accuracy: 0.9465\n",
      "Epoch 12/30\n",
      "67500/67500 [==============================] - 81s 1ms/step - loss: 0.1504 - accuracy: 0.9512\n",
      "Epoch 13/30\n",
      "67500/67500 [==============================] - 75s 1ms/step - loss: 0.1393 - accuracy: 0.9547\n",
      "Epoch 14/30\n",
      "67500/67500 [==============================] - 73s 1ms/step - loss: 0.1352 - accuracy: 0.9563\n",
      "Epoch 15/30\n",
      "67500/67500 [==============================] - 78s 1ms/step - loss: 0.1229 - accuracy: 0.9599\n",
      "Epoch 16/30\n",
      "67500/67500 [==============================] - 83s 1ms/step - loss: 0.1161 - accuracy: 0.9631\n",
      "Epoch 17/30\n",
      "67500/67500 [==============================] - 84s 1ms/step - loss: 0.1090 - accuracy: 0.9650\n",
      "Epoch 18/30\n",
      "67500/67500 [==============================] - 82s 1ms/step - loss: 0.1090 - accuracy: 0.9653\n",
      "Epoch 19/30\n",
      "67500/67500 [==============================] - 77s 1ms/step - loss: 0.0998 - accuracy: 0.9687\n",
      "Epoch 20/30\n",
      "67500/67500 [==============================] - 81s 1ms/step - loss: 0.0945 - accuracy: 0.9702\n",
      "Epoch 21/30\n",
      "67500/67500 [==============================] - 83s 1ms/step - loss: 0.0931 - accuracy: 0.9696\n",
      "Epoch 22/30\n",
      "67500/67500 [==============================] - 78s 1ms/step - loss: 0.0907 - accuracy: 0.9718\n",
      "Epoch 23/30\n",
      "67500/67500 [==============================] - 81s 1ms/step - loss: 0.0851 - accuracy: 0.9733\n",
      "Epoch 24/30\n",
      "67500/67500 [==============================] - 75s 1ms/step - loss: 0.0877 - accuracy: 0.9722\n",
      "Epoch 25/30\n",
      "67500/67500 [==============================] - 75s 1ms/step - loss: 0.0787 - accuracy: 0.9751\n",
      "\n",
      "Reached 97.5% accuracy so cancelling training!\n"
     ]
    }
   ],
   "source": [
    "model = Sequential()\n",
    "\n",
    "model.add(Conv2D(32, kernel_size=(3, 3), padding='same', activation='relu', input_shape=(img_rows, img_cols, 1)))\n",
    "model.add(MaxPooling2D(pool_size=(2, 2)))\n",
    "model.add(Conv2D(64, kernel_size=(3, 3), padding='same', activation='relu'))\n",
    "model.add(MaxPooling2D(pool_size=(2, 2)))\n",
    "model.add(Dropout(0.25))\n",
    "model.add(Flatten())\n",
    "model.add(Dense(256, activation='relu'))\n",
    "model.add(Dense(256, activation='relu'))\n",
    "model.add(Dropout(0.5))\n",
    "model.add(Dense(num_classes, activation='softmax'))\n",
    "\n",
    "model.compile(\n",
    "    loss=keras.losses.categorical_crossentropy,\n",
    "    optimizer=keras.optimizers.Adam(),\n",
    "    metrics=['accuracy']\n",
    ")\n",
    "\n",
    "model.fit(\n",
    "    x_train, y_train_onehot,\n",
    "    batch_size = 32,\n",
    "    epochs = 30,\n",
    "    callbacks=[callbacks],\n",
    "    verbose = 1\n",
    ")\n",
    "\n",
    "model.save(os.path.join(model_dir, 'model.h5'))"
   ]
  },
  {
   "cell_type": "code",
   "execution_count": 25,
   "metadata": {
    "scrolled": true
   },
   "outputs": [
    {
     "name": "stdout",
     "output_type": "stream",
     "text": [
      "7499/7499 [==============================] - 1s 199us/step\n",
      "\n",
      "Accuracy 0.8851847052574158\n"
     ]
    }
   ],
   "source": [
    "model = keras.models.load_model(os.path.join(model_dir, 'model.h5'))\n",
    "\n",
    "score = model.evaluate(x_test, y_test_onehot, verbose = 1)\n",
    "print(\"\\nAccuracy {}\".format(score[1]))"
   ]
  },
  {
   "cell_type": "code",
   "execution_count": 26,
   "metadata": {},
   "outputs": [
    {
     "name": "stdout",
     "output_type": "stream",
     "text": [
      "7499/7499 [==============================] - 1s 172us/step\n",
      "\n",
      "[[476   9   1   0   3   4   5   6   7   2   4   1   5   1   2]\n",
      " [  8 463   0   1   1   0   2   3   0   2   1   0   3   0   0]\n",
      " [  2   0 462   2   2   4   8   0   1   4   4   1   3   2   1]\n",
      " [  0   2   2 434  42   6   1  10   5   7   0   0   4  10   0]\n",
      " [  2   0   1  39 350   8   9  65   5   4   3   0   2  11   4]\n",
      " [  2   4   2   3   7 421   8   8  14   9   7   2   3   3   8]\n",
      " [  7   3   0   5  11   4 436  11   3   6   7   0   4   4   0]\n",
      " [  0   6   1  10  34   4   3 407   4   5   1   0   1   8   1]\n",
      " [  8   1   0   4   3  22   4   2 438   6   2   1   4   1   0]\n",
      " [  2   9   1   7   2   6   0   3   3 469   0   0   4   0   0]\n",
      " [  2   3   1   5   3   7   6   3   4   2 451   1   5   2   0]\n",
      " [  0   1   1   2   3   4   6   3   0   3   3 480   1   0   5]\n",
      " [  0   0   0   5   0   3   4   4   2   2   4   2 454   0   2]\n",
      " [  2   8   2   9  14   2  10   7   1   5   4   0   3 424   0]\n",
      " [  0   0   0   1   1   8   2   2   1   0   2   5   1   2 473]]\n"
     ]
    }
   ],
   "source": [
    "from sklearn.metrics import confusion_matrix\n",
    "\n",
    "y_pred = np.argmax(model.predict(x_test, verbose=1), axis=1)\n",
    "confusion_matrix = confusion_matrix(y_test.astype(int), y_pred)\n",
    "\n",
    "print()\n",
    "print(confusion_matrix)\n"
   ]
  },
  {
   "cell_type": "code",
   "execution_count": 27,
   "metadata": {},
   "outputs": [
    {
     "data": {
      "image/png": "[encoded data removed]",
      "text/plain": [
       "<Figure size 432x288 with 1 Axes>"
      ]
     },
     "metadata": {
      "needs_background": "light"
     },
     "output_type": "display_data"
    }
   ],
   "source": [
    "\n",
    "plt.imshow(confusion_matrix, interpolation='nearest')\n",
    "plt.xticks(np.arange(0,num_classes), LABELS, rotation=90)\n",
    "plt.yticks(np.arange(0,num_classes), LABELS)\n",
    "\n",
    "plt.show()"
   ]
  },
  {
   "cell_type": "code",
   "execution_count": 28,
   "metadata": {},
   "outputs": [
    {
     "name": "stdout",
     "output_type": "stream",
     "text": [
      "              precision    recall  f1-score   support\n",
      "\n",
      "      bowtie       0.93      0.90      0.92       526\n",
      "   butterfly       0.91      0.96      0.93       484\n",
      "        cake       0.97      0.93      0.95       496\n",
      "         cat       0.82      0.83      0.83       523\n",
      "         dog       0.74      0.70      0.72       503\n",
      "     dolphin       0.84      0.84      0.84       501\n",
      "    dumbbell       0.87      0.87      0.87       501\n",
      "    elephant       0.76      0.84      0.80       485\n",
      "        fish       0.90      0.88      0.89       496\n",
      "  helicopter       0.89      0.93      0.91       506\n",
      "        leaf       0.91      0.91      0.91       495\n",
      "    mountain       0.97      0.94      0.96       512\n",
      "     octagon       0.91      0.94      0.93       482\n",
      "       panda       0.91      0.86      0.88       491\n",
      "     rainbow       0.95      0.95      0.95       498\n",
      "\n",
      "    accuracy                           0.89      7499\n",
      "   macro avg       0.89      0.89      0.89      7499\n",
      "weighted avg       0.89      0.89      0.89      7499\n",
      "\n"
     ]
    }
   ],
   "source": [
    "# Calculate classification report\n",
    "from sklearn.metrics import classification_report\n",
    "print(classification_report(y_test, y_pred,\n",
    "                            target_names=['bowtie', 'butterfly', 'cake', 'cat', 'dog', 'dolphin', 'dumbbell',\n",
    "       'elephant', 'fish', 'helicopter', 'leaf', 'mountain', 'octagon',\n",
    "       'panda', 'rainbow']))"
   ]
  },
  {
   "cell_type": "code",
   "execution_count": null,
   "metadata": {},
   "outputs": [],
   "source": []
  }
 ],
 "metadata": {
  "kernelspec": {
   "display_name": "Python 3",
   "language": "python",
   "name": "python3"
  },
  "language_info": {
   "codemirror_mode": {
    "name": "ipython",
    "version": 3
   },
   "file_extension": ".py",
   "mimetype": "text/x-python",
   "name": "python",
   "nbconvert_exporter": "python",
   "pygments_lexer": "ipython3",
   "version": "3.6.12"
  }
 },
 "nbformat": 4,
 "nbformat_minor": 2
}
