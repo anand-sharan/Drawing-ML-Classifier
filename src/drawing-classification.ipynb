{
 "cells": [
  {
   "cell_type": "code",
   "execution_count": 1,
   "metadata": {},
   "outputs": [],
   "source": [
    "import tensorflow as tf\n",
    "import os\n",
    "import numpy as np\n",
    "import matplotlib.pyplot as plt\n",
    "import pickle\n",
    "import pandas as pd\n",
    "\n",
    "%matplotlib inline\n",
    "\n",
    "cwd = os.getcwd()"
   ]
  },
  {
   "cell_type": "code",
   "execution_count": 2,
   "metadata": {},
   "outputs": [],
   "source": [
    "datapath = os.path.join(cwd, \"..\", \"data\")"
   ]
  },
  {
   "cell_type": "code",
   "execution_count": 3,
   "metadata": {},
   "outputs": [
    {
     "data": {
      "text/plain": [
       "array([['full_numpy_bitmap_bowtie.npy'],\n",
       "       ['full_numpy_bitmap_butterfly.npy'],\n",
       "       ['full_numpy_bitmap_cake.npy'],\n",
       "       ['full_numpy_bitmap_cat.npy'],\n",
       "       ['full_numpy_bitmap_dog.npy'],\n",
       "       ['full_numpy_bitmap_dolphin.npy'],\n",
       "       ['full_numpy_bitmap_dumbbell.npy'],\n",
       "       ['full_numpy_bitmap_elephant.npy'],\n",
       "       ['full_numpy_bitmap_fish.npy'],\n",
       "       ['full_numpy_bitmap_helicopter.npy'],\n",
       "       ['full_numpy_bitmap_leaf.npy'],\n",
       "       ['full_numpy_bitmap_mountain.npy'],\n",
       "       ['full_numpy_bitmap_octagon.npy'],\n",
       "       ['full_numpy_bitmap_panda.npy'],\n",
       "       ['full_numpy_bitmap_rainbow.npy']], dtype=object)"
      ]
     },
     "execution_count": 3,
     "metadata": {},
     "output_type": "execute_result"
    }
   ],
   "source": [
    "from os import listdir\n",
    "from os.path import isfile, join\n",
    "\n",
    "img_rows, img_cols = 28, 28\n",
    "\n",
    "data_dir = os.path.join(cwd, \"..\", \"data\")\n",
    "model_dir = os.path.join(cwd, \"..\", \"model\")\n",
    "\n",
    "file_list = [f for f in listdir(datapath) if isfile(join(datapath, f))]\n",
    "\n",
    "file_list_df = pd.DataFrame(file_list, columns = [ \"Filename\"] )\n",
    "\n",
    "cleaned_file_list_df = file_list_df[(file_list_df.Filename != '.gitkeep') & \\\n",
    "                                    (file_list_df.Filename != 'test.pickle') & \\\n",
    "                                    (file_list_df.Filename != 'train.pickle')]\n",
    "\n",
    "LABELS = []\n",
    "for index, row in file_list_df.iterrows():\n",
    "    if row[\"Filename\"] != '.gitkeep' and row[\"Filename\"] != 'test.pickle' and row[\"Filename\"] != 'train.pickle':\n",
    "        name_label = os.path.splitext(row[\"Filename\"])[0]\n",
    "        labl = name_label.split('_')[3]\n",
    "        LABELS.append(labl) \n",
    "\n",
    "LABELS = np.array(LABELS)\n",
    "\n",
    "#LABELS = np.array(\n",
    "#    map(\n",
    "#        (lambda x : x.replace(\".npy\", \"\")),\n",
    "#        filter(lambda x: x.endswith('.npy'), os.listdir(data_dir))\n",
    "#    )\n",
    "#)\n",
    "\n",
    "num_classes = len(LABELS)\n",
    "len(LABELS)\n",
    "\n",
    "datas_path = cleaned_file_list_df.to_numpy()\n",
    "\n",
    "datas_path"
   ]
  },
  {
   "cell_type": "code",
   "execution_count": 4,
   "metadata": {},
   "outputs": [
    {
     "data": {
      "text/plain": [
       "array(['bowtie', 'butterfly', 'cake', 'cat', 'dog', 'dolphin', 'dumbbell',\n",
       "       'elephant', 'fish', 'helicopter', 'leaf', 'mountain', 'octagon',\n",
       "       'panda', 'rainbow'], dtype='<U10')"
      ]
     },
     "execution_count": 4,
     "metadata": {},
     "output_type": "execute_result"
    }
   ],
   "source": [
    "LABELS"
   ]
  },
  {
   "cell_type": "code",
   "execution_count": 5,
   "metadata": {},
   "outputs": [],
   "source": [
    "def data_prepare():\n",
    "    #datas_path = filter(lambda x: x.endswith('.npy'), os.listdir(data_dir))\n",
    "    print(datas_path)\n",
    "    dataset = np.array([]).reshape(0, img_rows * img_cols + 1)\n",
    "    \n",
    "    for i, d_path in enumerate(datas_path):\n",
    "        data = np.load(os.path.join(data_dir, d_path))\n",
    "        image_size = len(data)\n",
    "        label = np.ones(image_size, dtype=int) * i\n",
    "        data = np.concatenate((label[:, np.newaxis], data), axis=1)\n",
    "        \n",
    "        np.random.shuffle(data)\n",
    "\n",
    "        dataset = np.append(dataset, data[0:5000], axis=0)\n",
    "        print(\"Load {}\".format(d_path))\n",
    "    \n",
    "    np.random.shuffle(dataset)\n",
    "    dataset_len = len(dataset)\n",
    "    split_x = (int)(dataset_len * 0.9)\n",
    "    \n",
    "    print(\"Dataset {} images\".format(dataset_len))\n",
    "    print(\"Train {} images\".format(split_x))\n",
    "    print(\"Test {} images\".format(dataset_len - split_x))\n",
    "    \n",
    "    print(\"Write data to pickle files...\")\n",
    "    \n",
    "    pickle.dump(dataset[0:split_x], open(os.path.join(data_dir, \"train.pickle\"), \"wb\"))\n",
    "    pickle.dump(dataset[split_x:-1], open(os.path.join(data_dir, \"test.pickle\"), \"wb\"))\n",
    "    \n",
    "    print(\"Finish\")\n"
   ]
  },
  {
   "cell_type": "code",
   "execution_count": 6,
   "metadata": {},
   "outputs": [
    {
     "name": "stdout",
     "output_type": "stream",
     "text": [
      "<filter object at 0x000001D8F55697B8>\n",
      "Load full_numpy_bitmap_bowtie.npy\n",
      "Load full_numpy_bitmap_butterfly.npy\n",
      "Load full_numpy_bitmap_cake.npy\n",
      "Load full_numpy_bitmap_cat.npy\n",
      "Load full_numpy_bitmap_dog.npy\n",
      "Load full_numpy_bitmap_dolphin.npy\n",
      "Load full_numpy_bitmap_dumbbell.npy\n",
      "Load full_numpy_bitmap_elephant.npy\n",
      "Load full_numpy_bitmap_fish.npy\n",
      "Load full_numpy_bitmap_helicopter.npy\n",
      "Load full_numpy_bitmap_leaf.npy\n",
      "Load full_numpy_bitmap_mountain.npy\n",
      "Load full_numpy_bitmap_octagon.npy\n",
      "Load full_numpy_bitmap_panda.npy\n",
      "Load full_numpy_bitmap_rainbow.npy\n",
      "Dataset 75000 images\n",
      "Train 67500 images\n",
      "Test 7500 images\n",
      "Write data to pickle files...\n",
      "Finish\n"
     ]
    }
   ],
   "source": [
    "def data_prepare():\n",
    "    datas_path = filter(lambda x: x.endswith('.npy'), os.listdir(data_dir))\n",
    "    print(datas_path)\n",
    "    dataset = np.array([]).reshape(0, img_rows * img_cols + 1)\n",
    "    \n",
    "    for i, d_path in enumerate(datas_path):\n",
    "        data = np.load(os.path.join(data_dir, d_path))\n",
    "        image_size = len(data)\n",
    "        label = np.ones(image_size, dtype=int) * i\n",
    "        data = np.concatenate((label[:, np.newaxis], data), axis=1)\n",
    "        \n",
    "        np.random.shuffle(data)\n",
    "\n",
    "        dataset = np.append(dataset, data[0:5000], axis=0)\n",
    "        print(\"Load {}\".format(d_path))\n",
    "    \n",
    "    np.random.shuffle(dataset)\n",
    "    dataset_len = len(dataset)\n",
    "    split_x = (int)(dataset_len * 0.9)\n",
    "    \n",
    "    print(\"Dataset {} images\".format(dataset_len))\n",
    "    print(\"Train {} images\".format(split_x))\n",
    "    print(\"Test {} images\".format(dataset_len - split_x))\n",
    "    \n",
    "    print(\"Write data to pickle files...\")\n",
    "    \n",
    "    pickle.dump(dataset[0:split_x], open(os.path.join(data_dir, \"train.pickle\"), \"wb\"))\n",
    "    pickle.dump(dataset[split_x:-1], open(os.path.join(data_dir, \"test.pickle\"), \"wb\"))\n",
    "    \n",
    "    print(\"Finish\")\n",
    "\n",
    "data_prepare()"
   ]
  },
  {
   "cell_type": "code",
   "execution_count": 7,
   "metadata": {},
   "outputs": [],
   "source": [
    "if not os.path.exists(os.path.join(data_dir, \"train.pickle\")):\n",
    "    print(\"Prepare pickle data\")\n",
    "    data_prepare()"
   ]
  },
  {
   "cell_type": "code",
   "execution_count": 8,
   "metadata": {},
   "outputs": [
    {
     "name": "stdout",
     "output_type": "stream",
     "text": [
      "Load dataset complete\n"
     ]
    }
   ],
   "source": [
    "x_train = None\n",
    "y_train = None\n",
    "x_test = None\n",
    "y_test = None\n",
    "\n",
    "def load_dataset():\n",
    "    global x_train, y_train, x_test, y_test\n",
    "    train_data = pickle.load(open(os.path.join(data_dir, \"train.pickle\"), \"rb\"))\n",
    "    test_data = pickle.load(open(os.path.join(data_dir, \"test.pickle\"), \"rb\"))\n",
    "    x_train = train_data[:,1:]\n",
    "    y_train = train_data[:,0]\n",
    "    x_test = test_data[:,1:]\n",
    "    y_test = test_data[:,0]\n",
    "    print(\"Load dataset complete\")\n",
    "\n",
    "load_dataset()"
   ]
  },
  {
   "cell_type": "code",
   "execution_count": 41,
   "metadata": {},
   "outputs": [],
   "source": [
    "#LABELS = [ 'stethoscope', 'flower', 'dog', 'key', 'dolphin', 'butterfly', 'cake', 'lollipop', 'key board', 'tree', 'fish', 'ant', \n",
    "#         'violin', 'fish', 'cat']"
   ]
  },
  {
   "cell_type": "code",
   "execution_count": 19,
   "metadata": {},
   "outputs": [
    {
     "data": {
      "image/png": "[encoded data removed]",
      "text/plain": [
       "<Figure size 432x288 with 1 Axes>"
      ]
     },
     "metadata": {
      "needs_background": "light"
     },
     "output_type": "display_data"
    },
    {
     "data": {
      "image/png": "[encoded data removed]",
      "text/plain": [
       "<Figure size 432x288 with 1 Axes>"
      ]
     },
     "metadata": {
      "needs_background": "light"
     },
     "output_type": "display_data"
    },
    {
     "data": {
      "image/png": "[encoded data removed]",
      "text/plain": [
       "<Figure size 432x288 with 1 Axes>"
      ]
     },
     "metadata": {
      "needs_background": "light"
     },
     "output_type": "display_data"
    },
    {
     "data": {
      "image/png": "[encoded data removed]",
      "text/plain": [
       "<Figure size 432x288 with 1 Axes>"
      ]
     },
     "metadata": {
      "needs_background": "light"
     },
     "output_type": "display_data"
    },
    {
     "data": {
      "image/png": "[encoded data removed]",
      "text/plain": [
       "<Figure size 432x288 with 1 Axes>"
      ]
     },
     "metadata": {
      "needs_background": "light"
     },
     "output_type": "display_data"
    },
    {
     "data": {
      "image/png": "[encoded data removed]",
      "text/plain": [
       "<Figure size 432x288 with 1 Axes>"
      ]
     },
     "metadata": {
      "needs_background": "light"
     },
     "output_type": "display_data"
    },
    {
     "data": {
      "image/png": "[encoded data removed]",
      "text/plain": [
       "<Figure size 432x288 with 1 Axes>"
      ]
     },
     "metadata": {
      "needs_background": "light"
     },
     "output_type": "display_data"
    },
    {
     "data": {
      "image/png": "[encoded data removed]",
      "text/plain": [
       "<Figure size 432x288 with 1 Axes>"
      ]
     },
     "metadata": {
      "needs_background": "light"
     },
     "output_type": "display_data"
    },
    {
     "data": {
      "image/png": "[encoded data removed]",
      "text/plain": [
       "<Figure size 432x288 with 1 Axes>"
      ]
     },
     "metadata": {
      "needs_background": "light"
     },
     "output_type": "display_data"
    },
    {
     "data": {
      "image/png": "[encoded data removed]",
      "text/plain": [
       "<Figure size 432x288 with 1 Axes>"
      ]
     },
     "metadata": {
      "needs_background": "light"
     },
     "output_type": "display_data"
    },
    {
     "data": {
      "image/png": "[encoded data removed]",
      "text/plain": [
       "<Figure size 432x288 with 1 Axes>"
      ]
     },
     "metadata": {
      "needs_background": "light"
     },
     "output_type": "display_data"
    },
    {
     "data": {
      "image/png": "[encoded data removed]",
      "text/plain": [
       "<Figure size 432x288 with 1 Axes>"
      ]
     },
     "metadata": {
      "needs_background": "light"
     },
     "output_type": "display_data"
    },
    {
     "data": {
      "image/png": "[encoded data removed]",
      "text/plain": [
       "<Figure size 432x288 with 1 Axes>"
      ]
     },
     "metadata": {
      "needs_background": "light"
     },
     "output_type": "display_data"
    },
    {
     "data": {
      "image/png": "[encoded data removed]",
      "text/plain": [
       "<Figure size 432x288 with 1 Axes>"
      ]
     },
     "metadata": {
      "needs_background": "light"
     },
     "output_type": "display_data"
    },
    {
     "data": {
      "image/png": "[encoded data removed]",
      "text/plain": [
       "<Figure size 432x288 with 1 Axes>"
      ]
     },
     "metadata": {
      "needs_background": "light"
     },
     "output_type": "display_data"
    }
   ],
   "source": [
    "for i in range(num_classes):\n",
    "    plt.imshow(x_train[i].reshape(28,28))\n",
    "    plt.title(LABELS[(int)(y_train[i])])\n",
    "    # Save the figure\n",
    "    file_name = '../docs/' + LABELS[(int)(y_train[i])] + '_train_img_data.png'\n",
    "    plt.savefig(file_name)\n",
    "    plt.show()\n"
   ]
  },
  {
   "cell_type": "markdown",
   "metadata": {},
   "source": [
    "### Data Prepossing"
   ]
  },
  {
   "cell_type": "code",
   "execution_count": 11,
   "metadata": {},
   "outputs": [],
   "source": [
    "import keras\n",
    "from keras.models import Sequential\n",
    "from keras.layers import Dense, Dropout, Flatten\n",
    "from keras.layers import Conv2D, MaxPooling2D"
   ]
  },
  {
   "cell_type": "code",
   "execution_count": 12,
   "metadata": {},
   "outputs": [
    {
     "name": "stdout",
     "output_type": "stream",
     "text": [
      "(67500, 28, 28, 1)\n",
      "(67500, 15)\n",
      "(7499, 28, 28, 1)\n",
      "(7499, 15)\n"
     ]
    }
   ],
   "source": [
    "x_train = x_train.astype('float32')\n",
    "x_test = x_test.astype('float32')\n",
    "x_train /= 255\n",
    "x_test /= 255\n",
    "x_train = x_train.reshape(x_train.shape[0], img_rows, img_cols, 1)\n",
    "x_test = x_test.reshape(x_test.shape[0], img_rows, img_cols, 1)\n",
    "\n",
    "y_train_onehot = keras.utils.to_categorical(y_train, num_classes)\n",
    "y_test_onehot = keras.utils.to_categorical(y_test, num_classes)\n",
    "\n",
    "print(x_train.shape)\n",
    "print(y_train_onehot.shape)\n",
    "print(x_test.shape)\n",
    "print(y_test_onehot.shape)"
   ]
  },
  {
   "cell_type": "markdown",
   "metadata": {},
   "source": [
    "### Model"
   ]
  },
  {
   "cell_type": "code",
   "execution_count": 13,
   "metadata": {
    "scrolled": true
   },
   "outputs": [
    {
     "name": "stdout",
     "output_type": "stream",
     "text": [
      "Epoch 1/30\n",
      "67500/67500 [==============================] - 93s 1ms/step - loss: 0.7836 - accuracy: 0.7665 0s - loss: 0.7839 - accuracy:  - ETA: 0s - loss: 0.7837 - accuracy: 0.76\n",
      "Epoch 2/30\n",
      "67500/67500 [==============================] - 96s 1ms/step - loss: 0.4849 - accuracy: 0.8551\n",
      "Epoch 3/30\n",
      "67500/67500 [==============================] - 92s 1ms/step - loss: 0.4019 - accuracy: 0.8789\n",
      "Epoch 4/30\n",
      "67500/67500 [==============================] - 93s 1ms/step - loss: 0.3436 - accuracy: 0.8950\n",
      "Epoch 5/30\n",
      "67500/67500 [==============================] - 96s 1ms/step - loss: 0.3023 - accuracy: 0.9071\n",
      "Epoch 6/30\n",
      "67500/67500 [==============================] - 98s 1ms/step - loss: 0.2652 - accuracy: 0.9170\n",
      "Epoch 7/30\n",
      "67500/67500 [==============================] - 98s 1ms/step - loss: 0.2359 - accuracy: 0.9247\n",
      "Epoch 8/30\n",
      "67500/67500 [==============================] - 99s 1ms/step - loss: 0.2107 - accuracy: 0.9326\n",
      "Epoch 9/30\n",
      "67500/67500 [==============================] - 99s 1ms/step - loss: 0.1860 - accuracy: 0.9402\n",
      "Epoch 10/30\n",
      "67500/67500 [==============================] - 102s 2ms/step - loss: 0.1704 - accuracy: 0.9450\n",
      "Epoch 11/30\n",
      "67500/67500 [==============================] - 97s 1ms/step - loss: 0.1558 - accuracy: 0.9500\n",
      "Epoch 12/30\n",
      "67500/67500 [==============================] - 97s 1ms/step - loss: 0.1407 - accuracy: 0.9537\n",
      "Epoch 13/30\n",
      "67500/67500 [==============================] - 108s 2ms/step - loss: 0.1320 - accuracy: 0.9566\n",
      "Epoch 14/30\n",
      "67500/67500 [==============================] - 99s 1ms/step - loss: 0.1230 - accuracy: 0.9604\n",
      "Epoch 15/30\n",
      "67500/67500 [==============================] - ETA: 0s - loss: 0.1101 - accuracy: 0.96 - 98s 1ms/step - loss: 0.1101 - accuracy: 0.9640\n",
      "Epoch 16/30\n",
      "67500/67500 [==============================] - 101s 1ms/step - loss: 0.1115 - accuracy: 0.9638\n",
      "Epoch 17/30\n",
      "67500/67500 [==============================] - 100s 1ms/step - loss: 0.0981 - accuracy: 0.9686\n",
      "Epoch 18/30\n",
      "67500/67500 [==============================] - 102s 2ms/step - loss: 0.0945 - accuracy: 0.9696\n",
      "Epoch 19/30\n",
      "67500/67500 [==============================] - 99s 1ms/step - loss: 0.0934 - accuracy: 0.9699 1s - l\n",
      "Epoch 20/30\n",
      "67500/67500 [==============================] - 99s 1ms/step - loss: 0.0903 - accuracy: 0.9716\n",
      "Epoch 21/30\n",
      "67500/67500 [==============================] - 105s 2ms/step - loss: 0.0888 - accuracy: 0.9715\n",
      "Epoch 22/30\n",
      "67500/67500 [==============================] - 105s 2ms/step - loss: 0.0803 - accuracy: 0.9741\n",
      "Epoch 23/30\n",
      "67500/67500 [==============================] - 100s 1ms/step - loss: 0.0804 - accuracy: 0.9739\n",
      "Epoch 24/30\n",
      "67500/67500 [==============================] - 102s 2ms/step - loss: 0.0747 - accuracy: 0.9767\n",
      "Epoch 25/30\n",
      "67500/67500 [==============================] - 102s 2ms/step - loss: 0.0757 - accuracy: 0.9765\n",
      "Epoch 26/30\n",
      "67500/67500 [==============================] - 101s 1ms/step - loss: 0.0698 - accuracy: 0.9779\n",
      "Epoch 27/30\n",
      "67500/67500 [==============================] - 104s 2ms/step - loss: 0.0762 - accuracy: 0.9768\n",
      "Epoch 28/30\n",
      "67500/67500 [==============================] - 101s 1ms/step - loss: 0.0680 - accuracy: 0.9791\n",
      "Epoch 29/30\n",
      "67500/67500 [==============================] - 105s 2ms/step - loss: 0.0657 - accuracy: 0.9794\n",
      "Epoch 30/30\n",
      "67500/67500 [==============================] - 101s 1ms/step - loss: 0.0699 - accuracy: 0.97861s - loss:\n"
     ]
    }
   ],
   "source": [
    "model = Sequential()\n",
    "\n",
    "model.add(Conv2D(32, kernel_size=(3, 3), padding='same', activation='relu', input_shape=(img_rows, img_cols, 1)))\n",
    "model.add(MaxPooling2D(pool_size=(2, 2)))\n",
    "model.add(Conv2D(64, kernel_size=(3, 3), padding='same', activation='relu'))\n",
    "model.add(MaxPooling2D(pool_size=(2, 2)))\n",
    "model.add(Dropout(0.25))\n",
    "model.add(Flatten())\n",
    "model.add(Dense(256, activation='relu'))\n",
    "model.add(Dense(256, activation='relu'))\n",
    "model.add(Dropout(0.5))\n",
    "model.add(Dense(num_classes, activation='softmax'))\n",
    "\n",
    "model.compile(\n",
    "    loss=keras.losses.categorical_crossentropy,\n",
    "    optimizer=keras.optimizers.Adam(),\n",
    "    metrics=['accuracy']\n",
    ")\n",
    "\n",
    "model.fit(\n",
    "    x_train, y_train_onehot,\n",
    "    batch_size = 32,\n",
    "    epochs = 30,\n",
    "    verbose = 1\n",
    ")\n",
    "\n",
    "model.save(os.path.join(model_dir, 'model.h5'))"
   ]
  },
  {
   "cell_type": "code",
   "execution_count": 15,
   "metadata": {},
   "outputs": [
    {
     "name": "stdout",
     "output_type": "stream",
     "text": [
      "7499/7499 [==============================] - 4s 554us/step\n",
      "\n",
      "Accuracy 0.8846513032913208\n"
     ]
    }
   ],
   "source": [
    "model = keras.models.load_model(os.path.join(model_dir, 'model.h5'))\n",
    "\n",
    "score = model.evaluate(x_test, y_test_onehot, verbose = 1)\n",
    "print(\"\\nAccuracy {}\".format(score[1]))"
   ]
  },
  {
   "cell_type": "code",
   "execution_count": 16,
   "metadata": {},
   "outputs": [
    {
     "name": "stdout",
     "output_type": "stream",
     "text": [
      "7499/7499 [==============================] - 1s 163us/step\n",
      "\n",
      "[[471  10   0   1   3   3   5   3  18   0   4   0   2   5   1]\n",
      " [ 10 461   0   2   2   0   0   4   0   1   3   0   0   1   0]\n",
      " [  2   1 457   6   2   2   8   1   1   2   5   0   3   6   0]\n",
      " [  2   4   1 417  45   4   4  11   5  11   1   0   3  14   1]\n",
      " [  4   0   1  47 351   9   6  55   3   4   3   1   0  18   1]\n",
      " [  2   1   1   5  11 418   3   9  20   8  10   2   4   3   4]\n",
      " [  4   0   1   5  15   8 432   9   2   5   3   0   6  11   0]\n",
      " [  6   4   0   9  35   4   2 403   5   3   0   0   3  10   1]\n",
      " [  5   2   0   6   2  14   1   3 455   2   3   0   3   0   0]\n",
      " [  0   5   2   4   3   8   1   5   4 466   1   0   3   3   1]\n",
      " [  4   4   0   4   2   3   4   2   3   3 450   4   4   8   0]\n",
      " [  1   1   0   0   5   8   1   1   0   4   1 478   4   1   7]\n",
      " [  0   0   1   0   2   3   3   4   2   4   1   2 457   2   1]\n",
      " [  4   4   1   5   8   0   4   5   1   4   2   1   4 448   0]\n",
      " [  0   0   0   0   3  13   1   3   0   2   1   4   1   0 470]]\n"
     ]
    },
    {
     "data": {
      "image/png": "[encoded data removed]",
      "text/plain": [
       "<Figure size 432x288 with 1 Axes>"
      ]
     },
     "metadata": {
      "needs_background": "light"
     },
     "output_type": "display_data"
    }
   ],
   "source": [
    "from sklearn.metrics import confusion_matrix\n",
    "\n",
    "y_pred = np.argmax(model.predict(x_test, verbose=1), axis=1)\n",
    "confusion_matrix = confusion_matrix(y_test.astype(int), y_pred)\n",
    "\n",
    "print()\n",
    "print(confusion_matrix)\n",
    "\n",
    "plt.imshow(confusion_matrix, interpolation='nearest')\n",
    "plt.xticks(np.arange(0,num_classes), LABELS, rotation=90)\n",
    "plt.yticks(np.arange(0,num_classes), LABELS)\n",
    "\n",
    "plt.show()"
   ]
  },
  {
   "cell_type": "code",
   "execution_count": null,
   "metadata": {},
   "outputs": [],
   "source": []
  }
 ],
 "metadata": {
  "kernelspec": {
   "display_name": "Python 3",
   "language": "python",
   "name": "python3"
  },
  "language_info": {
   "codemirror_mode": {
    "name": "ipython",
    "version": 3
   },
   "file_extension": ".py",
   "mimetype": "text/x-python",
   "name": "python",
   "nbconvert_exporter": "python",
   "pygments_lexer": "ipython3",
   "version": "3.6.12"
  }
 },
 "nbformat": 4,
 "nbformat_minor": 2
}
